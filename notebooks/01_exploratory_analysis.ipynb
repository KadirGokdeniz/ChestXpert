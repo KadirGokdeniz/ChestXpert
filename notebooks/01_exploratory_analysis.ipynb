{
 "cells": [
  {
   "cell_type": "code",
   "execution_count": 1,
   "metadata": {},
   "outputs": [],
   "source": [
    "import os\n",
    "import pandas as pd\n",
    "import numpy as np\n",
    "import matplotlib.pyplot as plt\n",
    "import seaborn as sns\n",
    "import cv2\n",
    "from PIL import Image\n",
    "import random\n",
    "from collections import Counter"
   ]
  },
  {
   "cell_type": "code",
   "execution_count": 4,
   "metadata": {},
   "outputs": [
    {
     "name": "stdout",
     "output_type": "stream",
     "text": [
      "Metadata içindeki toplam görüntü sayısı: 112120\n",
      "Bounding box içindeki toplam kayıt sayısı: 984\n",
      "Test listesindeki görüntü sayısı: 25596\n",
      "Eğitim/doğrulama listesindeki görüntü sayısı: 86524\n",
      "\n",
      "Metadata örnek kayıtlar:\n",
      "        Image Index          Finding Labels  Follow-up #  Patient ID  \\\n",
      "0  00000001_000.png            Cardiomegaly            0           1   \n",
      "1  00000001_001.png  Cardiomegaly|Emphysema            1           1   \n",
      "2  00000001_002.png   Cardiomegaly|Effusion            2           1   \n",
      "3  00000002_000.png              No Finding            0           2   \n",
      "4  00000003_000.png                  Hernia            0           3   \n",
      "\n",
      "   Patient Age Patient Gender View Position  OriginalImage[Width  Height]  \\\n",
      "0           58              M            PA                 2682     2749   \n",
      "1           58              M            PA                 2894     2729   \n",
      "2           58              M            PA                 2500     2048   \n",
      "3           81              M            PA                 2500     2048   \n",
      "4           81              F            PA                 2582     2991   \n",
      "\n",
      "   OriginalImagePixelSpacing[x     y]  Unnamed: 11  \n",
      "0                        0.143  0.143          NaN  \n",
      "1                        0.143  0.143          NaN  \n",
      "2                        0.168  0.168          NaN  \n",
      "3                        0.171  0.171          NaN  \n",
      "4                        0.143  0.143          NaN  \n",
      "\n",
      "Bounding box örnek kayıtlar:\n",
      "        Image Index Finding Label     Bbox [x           y           w  \\\n",
      "0  00013118_008.png   Atelectasis  225.084746  547.019217   86.779661   \n",
      "1  00014716_007.png   Atelectasis  686.101695  131.543498  185.491525   \n",
      "2  00029817_009.png   Atelectasis  221.830508  317.053115  155.118644   \n",
      "3  00014687_001.png   Atelectasis  726.237288  494.951420  141.016949   \n",
      "4  00017877_001.png   Atelectasis  660.067797  569.780787  200.677966   \n",
      "\n",
      "           h]  Unnamed: 6  Unnamed: 7  Unnamed: 8  \n",
      "0   79.186441         NaN         NaN         NaN  \n",
      "1  313.491525         NaN         NaN         NaN  \n",
      "2  216.949153         NaN         NaN         NaN  \n",
      "3   55.322034         NaN         NaN         NaN  \n",
      "4   78.101695         NaN         NaN         NaN  \n"
     ]
    }
   ],
   "source": [
    "# Dosya yollarını tanımlayın\n",
    "data_dir = r\"C:\\Users\\Asus F15\\Desktop\\ChestXpert\\data\\data\\archive (22)\"  # Anaveridizinini burada belirtin\n",
    "image_folders = [f\"images_{str(i).zfill(3)}\" for i in range(1, 13)]  # images_001 - images_012\n",
    "bbox_path = os.path.join(data_dir, \"BBox_List_2017.csv\")\n",
    "metadata_path = os.path.join(data_dir, \"Data_Entry_2017.csv\")\n",
    "test_list_path = os.path.join(data_dir, \"test_list.txt\")\n",
    "train_val_list_path = os.path.join(data_dir, \"train_val_list.txt\")\n",
    "\n",
    "# CSV dosyalarını yükleyin\n",
    "bbox_df = pd.read_csv(bbox_path)\n",
    "metadata_df = pd.read_csv(metadata_path)\n",
    "\n",
    "# Test ve eğitim dosyalarını yükleyin\n",
    "with open(test_list_path, 'r') as f:\n",
    "    test_list = [line.strip() for line in f.readlines()]\n",
    "    \n",
    "with open(train_val_list_path, 'r') as f:\n",
    "    train_val_list = [line.strip() for line in f.readlines()]\n",
    "\n",
    "# Verilere ilk bakış\n",
    "print(f\"Metadata içindeki toplam görüntü sayısı: {len(metadata_df)}\")\n",
    "print(f\"Bounding box içindeki toplam kayıt sayısı: {len(bbox_df)}\")\n",
    "print(f\"Test listesindeki görüntü sayısı: {len(test_list)}\")\n",
    "print(f\"Eğitim/doğrulama listesindeki görüntü sayısı: {len(train_val_list)}\")\n",
    "\n",
    "# İlk kayıtları inceleyin\n",
    "print(\"\\nMetadata örnek kayıtlar:\")\n",
    "print(metadata_df.head())\n",
    "\n",
    "print(\"\\nBounding box örnek kayıtlar:\")\n",
    "print(bbox_df.head())"
   ]
  },
  {
   "cell_type": "code",
   "execution_count": null,
   "metadata": {},
   "outputs": [],
   "source": []
  }
 ],
 "metadata": {
  "kernelspec": {
   "display_name": "Python 3",
   "language": "python",
   "name": "python3"
  },
  "language_info": {
   "codemirror_mode": {
    "name": "ipython",
    "version": 3
   },
   "file_extension": ".py",
   "mimetype": "text/x-python",
   "name": "python",
   "nbconvert_exporter": "python",
   "pygments_lexer": "ipython3",
   "version": "3.10.0"
  }
 },
 "nbformat": 4,
 "nbformat_minor": 2
}
